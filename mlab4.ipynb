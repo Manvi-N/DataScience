{
 "cells": [
  {
   "cell_type": "code",
   "execution_count": 34,
   "id": "ee1d6b51",
   "metadata": {},
   "outputs": [],
   "source": [
    "import os\n",
    "import pathlib"
   ]
  },
  {
   "cell_type": "code",
   "execution_count": 35,
   "id": "68d25bdc",
   "metadata": {},
   "outputs": [],
   "source": [
    "import pandas as pd\n",
    "import numpy as np\n",
    "import seaborn as sns\n",
    "import matplotlib.pyplot as plt\n",
    "%matplotlib inline"
   ]
  },
  {
   "cell_type": "code",
   "execution_count": 36,
   "id": "106222ea",
   "metadata": {},
   "outputs": [],
   "source": [
    "from sklearn.tree import DecisionTreeClassifier\n",
    "from sklearn.model_selection import train_test_split\n",
    "from sklearn import metrics"
   ]
  },
  {
   "cell_type": "code",
   "execution_count": 37,
   "id": "f720f5fb",
   "metadata": {},
   "outputs": [],
   "source": [
    "df=pd.read_csv(\"C:/Users/DS3/Downloads/student_performance_new.csv\")"
   ]
  },
  {
   "cell_type": "code",
   "execution_count": 38,
   "id": "b150ae68",
   "metadata": {},
   "outputs": [
    {
     "name": "stdout",
     "output_type": "stream",
     "text": [
      "<class 'pandas.core.frame.DataFrame'>\n",
      "RangeIndex: 54 entries, 0 to 53\n",
      "Data columns (total 18 columns):\n",
      " #   Column              Non-Null Count  Dtype  \n",
      "---  ------              --------------  -----  \n",
      " 0   Sl.No.              54 non-null     int64  \n",
      " 1   USN                 54 non-null     object \n",
      " 2   STUDENT NAME        54 non-null     object \n",
      " 3   Test I              54 non-null     int64  \n",
      " 4   Test II             54 non-null     int64  \n",
      " 5   Test III            54 non-null     int64  \n",
      " 6   Test Total          54 non-null     float64\n",
      " 7   Test Result         54 non-null     int64  \n",
      " 8   Quiz 1              54 non-null     float64\n",
      " 9   Quiz 2              54 non-null     float64\n",
      " 10  Compensatory        53 non-null     float64\n",
      " 11  Quiz                54 non-null     float64\n",
      " 12  Quiz Result         54 non-null     int64  \n",
      " 13  Test + Quiz         54 non-null     float64\n",
      " 14  Assignment          54 non-null     int64  \n",
      " 15  Unnamed: 15         54 non-null     int64  \n",
      " 16  Assignment Result   54 non-null     int64  \n",
      " 17  Result              54 non-null     int64  \n",
      "dtypes: float64(6), int64(10), object(2)\n",
      "memory usage: 7.7+ KB\n"
     ]
    }
   ],
   "source": [
    "df.info()"
   ]
  },
  {
   "cell_type": "code",
   "execution_count": 39,
   "id": "04df1a41",
   "metadata": {},
   "outputs": [
    {
     "data": {
      "text/html": [
       "<div>\n",
       "<style scoped>\n",
       "    .dataframe tbody tr th:only-of-type {\n",
       "        vertical-align: middle;\n",
       "    }\n",
       "\n",
       "    .dataframe tbody tr th {\n",
       "        vertical-align: top;\n",
       "    }\n",
       "\n",
       "    .dataframe thead th {\n",
       "        text-align: right;\n",
       "    }\n",
       "</style>\n",
       "<table border=\"1\" class=\"dataframe\">\n",
       "  <thead>\n",
       "    <tr style=\"text-align: right;\">\n",
       "      <th></th>\n",
       "      <th>Sl.No.</th>\n",
       "      <th>Test I</th>\n",
       "      <th>Test II</th>\n",
       "      <th>Test III</th>\n",
       "      <th>Test Total</th>\n",
       "      <th>Test Result</th>\n",
       "      <th>Quiz 1</th>\n",
       "      <th>Quiz 2</th>\n",
       "      <th>Compensatory</th>\n",
       "      <th>Quiz</th>\n",
       "      <th>Quiz Result</th>\n",
       "      <th>Test + Quiz</th>\n",
       "      <th>Assignment</th>\n",
       "      <th>Unnamed: 15</th>\n",
       "      <th>Assignment Result</th>\n",
       "      <th>Result</th>\n",
       "    </tr>\n",
       "  </thead>\n",
       "  <tbody>\n",
       "    <tr>\n",
       "      <th>count</th>\n",
       "      <td>54.000000</td>\n",
       "      <td>54.000000</td>\n",
       "      <td>54.000000</td>\n",
       "      <td>54.00000</td>\n",
       "      <td>54.000000</td>\n",
       "      <td>54.000000</td>\n",
       "      <td>54.000000</td>\n",
       "      <td>54.000000</td>\n",
       "      <td>53.000000</td>\n",
       "      <td>54.000000</td>\n",
       "      <td>54.000000</td>\n",
       "      <td>54.000000</td>\n",
       "      <td>54.000000</td>\n",
       "      <td>54.000000</td>\n",
       "      <td>54.0</td>\n",
       "      <td>54.000000</td>\n",
       "    </tr>\n",
       "    <tr>\n",
       "      <th>mean</th>\n",
       "      <td>27.907407</td>\n",
       "      <td>23.740741</td>\n",
       "      <td>30.462963</td>\n",
       "      <td>18.87037</td>\n",
       "      <td>24.358025</td>\n",
       "      <td>0.462963</td>\n",
       "      <td>5.592593</td>\n",
       "      <td>5.148148</td>\n",
       "      <td>9.490566</td>\n",
       "      <td>15.481481</td>\n",
       "      <td>0.981481</td>\n",
       "      <td>39.839506</td>\n",
       "      <td>13.759259</td>\n",
       "      <td>13.666667</td>\n",
       "      <td>1.0</td>\n",
       "      <td>0.500000</td>\n",
       "    </tr>\n",
       "    <tr>\n",
       "      <th>std</th>\n",
       "      <td>16.156392</td>\n",
       "      <td>8.355735</td>\n",
       "      <td>9.158382</td>\n",
       "      <td>7.47334</td>\n",
       "      <td>6.489744</td>\n",
       "      <td>0.503308</td>\n",
       "      <td>1.363521</td>\n",
       "      <td>1.516045</td>\n",
       "      <td>1.011903</td>\n",
       "      <td>1.710023</td>\n",
       "      <td>0.136083</td>\n",
       "      <td>6.903495</td>\n",
       "      <td>0.698656</td>\n",
       "      <td>0.700404</td>\n",
       "      <td>0.0</td>\n",
       "      <td>0.504695</td>\n",
       "    </tr>\n",
       "    <tr>\n",
       "      <th>min</th>\n",
       "      <td>1.000000</td>\n",
       "      <td>6.000000</td>\n",
       "      <td>6.000000</td>\n",
       "      <td>5.00000</td>\n",
       "      <td>12.666667</td>\n",
       "      <td>0.000000</td>\n",
       "      <td>2.500000</td>\n",
       "      <td>2.000000</td>\n",
       "      <td>7.000000</td>\n",
       "      <td>10.500000</td>\n",
       "      <td>0.000000</td>\n",
       "      <td>27.000000</td>\n",
       "      <td>13.000000</td>\n",
       "      <td>12.000000</td>\n",
       "      <td>1.0</td>\n",
       "      <td>0.000000</td>\n",
       "    </tr>\n",
       "    <tr>\n",
       "      <th>25%</th>\n",
       "      <td>14.250000</td>\n",
       "      <td>17.000000</td>\n",
       "      <td>25.500000</td>\n",
       "      <td>14.25000</td>\n",
       "      <td>18.916667</td>\n",
       "      <td>0.000000</td>\n",
       "      <td>5.000000</td>\n",
       "      <td>4.000000</td>\n",
       "      <td>10.000000</td>\n",
       "      <td>15.000000</td>\n",
       "      <td>1.000000</td>\n",
       "      <td>35.041667</td>\n",
       "      <td>13.000000</td>\n",
       "      <td>13.000000</td>\n",
       "      <td>1.0</td>\n",
       "      <td>0.000000</td>\n",
       "    </tr>\n",
       "    <tr>\n",
       "      <th>50%</th>\n",
       "      <td>27.500000</td>\n",
       "      <td>25.000000</td>\n",
       "      <td>32.000000</td>\n",
       "      <td>18.00000</td>\n",
       "      <td>24.000000</td>\n",
       "      <td>0.000000</td>\n",
       "      <td>5.500000</td>\n",
       "      <td>5.000000</td>\n",
       "      <td>10.000000</td>\n",
       "      <td>15.500000</td>\n",
       "      <td>1.000000</td>\n",
       "      <td>38.500000</td>\n",
       "      <td>14.000000</td>\n",
       "      <td>14.000000</td>\n",
       "      <td>1.0</td>\n",
       "      <td>0.500000</td>\n",
       "    </tr>\n",
       "    <tr>\n",
       "      <th>75%</th>\n",
       "      <td>41.750000</td>\n",
       "      <td>29.750000</td>\n",
       "      <td>37.750000</td>\n",
       "      <td>22.00000</td>\n",
       "      <td>28.500000</td>\n",
       "      <td>1.000000</td>\n",
       "      <td>6.875000</td>\n",
       "      <td>6.000000</td>\n",
       "      <td>10.000000</td>\n",
       "      <td>16.500000</td>\n",
       "      <td>1.000000</td>\n",
       "      <td>45.375000</td>\n",
       "      <td>14.000000</td>\n",
       "      <td>14.000000</td>\n",
       "      <td>1.0</td>\n",
       "      <td>1.000000</td>\n",
       "    </tr>\n",
       "    <tr>\n",
       "      <th>max</th>\n",
       "      <td>55.000000</td>\n",
       "      <td>46.000000</td>\n",
       "      <td>45.000000</td>\n",
       "      <td>43.00000</td>\n",
       "      <td>41.000000</td>\n",
       "      <td>1.000000</td>\n",
       "      <td>8.000000</td>\n",
       "      <td>10.000000</td>\n",
       "      <td>10.000000</td>\n",
       "      <td>20.000000</td>\n",
       "      <td>1.000000</td>\n",
       "      <td>60.000000</td>\n",
       "      <td>15.000000</td>\n",
       "      <td>15.000000</td>\n",
       "      <td>1.0</td>\n",
       "      <td>1.000000</td>\n",
       "    </tr>\n",
       "  </tbody>\n",
       "</table>\n",
       "</div>"
      ],
      "text/plain": [
       "          Sl.No.    Test I    Test II   Test III  Test Total   Test Result   \\\n",
       "count  54.000000  54.000000  54.000000  54.00000    54.000000     54.000000   \n",
       "mean   27.907407  23.740741  30.462963  18.87037    24.358025      0.462963   \n",
       "std    16.156392   8.355735   9.158382   7.47334     6.489744      0.503308   \n",
       "min     1.000000   6.000000   6.000000   5.00000    12.666667      0.000000   \n",
       "25%    14.250000  17.000000  25.500000  14.25000    18.916667      0.000000   \n",
       "50%    27.500000  25.000000  32.000000  18.00000    24.000000      0.000000   \n",
       "75%    41.750000  29.750000  37.750000  22.00000    28.500000      1.000000   \n",
       "max    55.000000  46.000000  45.000000  43.00000    41.000000      1.000000   \n",
       "\n",
       "          Quiz 1     Quiz 2  Compensatory       Quiz  Quiz Result   \\\n",
       "count  54.000000  54.000000     53.000000  54.000000     54.000000   \n",
       "mean    5.592593   5.148148      9.490566  15.481481      0.981481   \n",
       "std     1.363521   1.516045      1.011903   1.710023      0.136083   \n",
       "min     2.500000   2.000000      7.000000  10.500000      0.000000   \n",
       "25%     5.000000   4.000000     10.000000  15.000000      1.000000   \n",
       "50%     5.500000   5.000000     10.000000  15.500000      1.000000   \n",
       "75%     6.875000   6.000000     10.000000  16.500000      1.000000   \n",
       "max     8.000000  10.000000     10.000000  20.000000      1.000000   \n",
       "\n",
       "       Test + Quiz  Assignment   Unnamed: 15  Assignment Result      Result  \n",
       "count    54.000000    54.000000    54.000000                54.0  54.000000  \n",
       "mean     39.839506    13.759259    13.666667                 1.0   0.500000  \n",
       "std       6.903495     0.698656     0.700404                 0.0   0.504695  \n",
       "min      27.000000    13.000000    12.000000                 1.0   0.000000  \n",
       "25%      35.041667    13.000000    13.000000                 1.0   0.000000  \n",
       "50%      38.500000    14.000000    14.000000                 1.0   0.500000  \n",
       "75%      45.375000    14.000000    14.000000                 1.0   1.000000  \n",
       "max      60.000000    15.000000    15.000000                 1.0   1.000000  "
      ]
     },
     "execution_count": 39,
     "metadata": {},
     "output_type": "execute_result"
    }
   ],
   "source": [
    "df.describe()"
   ]
  },
  {
   "cell_type": "code",
   "execution_count": 40,
   "id": "b6cc0d49",
   "metadata": {},
   "outputs": [
    {
     "data": {
      "text/plain": [
       "Sl.No.                0\n",
       "USN                   0\n",
       "STUDENT NAME          0\n",
       "Test I                0\n",
       "Test II               0\n",
       "Test III              0\n",
       "Test Total            0\n",
       "Test Result           0\n",
       "Quiz 1                0\n",
       "Quiz 2                0\n",
       "Compensatory          1\n",
       "Quiz                  0\n",
       "Quiz Result           0\n",
       "Test + Quiz           0\n",
       "Assignment            0\n",
       "Unnamed: 15           0\n",
       "Assignment Result     0\n",
       "Result                0\n",
       "dtype: int64"
      ]
     },
     "execution_count": 40,
     "metadata": {},
     "output_type": "execute_result"
    }
   ],
   "source": [
    "df.isnull().sum()"
   ]
  },
  {
   "cell_type": "code",
   "execution_count": 41,
   "id": "8cc0ea82",
   "metadata": {},
   "outputs": [],
   "source": [
    "df.dropna(inplace=True)"
   ]
  },
  {
   "cell_type": "code",
   "execution_count": 42,
   "id": "106a19ba",
   "metadata": {},
   "outputs": [
    {
     "data": {
      "text/plain": [
       "Index(['Test I ', 'Test II ', 'Test III', 'Test Total ', 'Test Result ',\n",
       "       'Quiz 1', 'Quiz 2', 'Compensatory', 'Quiz', 'Quiz Result ',\n",
       "       'Test + Quiz', 'Assignment ', 'Unnamed: 15', 'Assignment Result '],\n",
       "      dtype='object')"
      ]
     },
     "execution_count": 42,
     "metadata": {},
     "output_type": "execute_result"
    }
   ],
   "source": [
    "X=df.columns[3:17]\n",
    "X"
   ]
  },
  {
   "cell_type": "code",
   "execution_count": 43,
   "id": "20ae5958",
   "metadata": {},
   "outputs": [
    {
     "data": {
      "text/plain": [
       "['Test I ',\n",
       " 'Test II ',\n",
       " 'Test III',\n",
       " 'Test Total ',\n",
       " 'Test Result ',\n",
       " 'Quiz 1',\n",
       " 'Quiz 2',\n",
       " 'Compensatory',\n",
       " 'Quiz',\n",
       " 'Quiz Result ',\n",
       " 'Test + Quiz',\n",
       " 'Assignment ',\n",
       " 'Unnamed: 15',\n",
       " 'Assignment Result ']"
      ]
     },
     "execution_count": 43,
     "metadata": {},
     "output_type": "execute_result"
    }
   ],
   "source": [
    "encoded_df=pd.get_dummies(df[X],drop_first=True)\n",
    "list(encoded_df.columns)"
   ]
  },
  {
   "cell_type": "code",
   "execution_count": 44,
   "id": "d4e70b42",
   "metadata": {},
   "outputs": [],
   "source": [
    "import statsmodels.api as sm\n",
    "y=df.Result\n",
    "x=sm.add_constant(encoded_df)"
   ]
  },
  {
   "cell_type": "code",
   "execution_count": 45,
   "id": "07a50e80",
   "metadata": {},
   "outputs": [],
   "source": [
    "x_train,x_test,y_train,y_test=train_test_split(x,y,test_size=0.20,random_state=42)"
   ]
  },
  {
   "cell_type": "code",
   "execution_count": 119,
   "id": "3d3941ef",
   "metadata": {},
   "outputs": [
    {
     "data": {
      "text/html": [
       "<style>#sk-container-id-10 {color: black;background-color: white;}#sk-container-id-10 pre{padding: 0;}#sk-container-id-10 div.sk-toggleable {background-color: white;}#sk-container-id-10 label.sk-toggleable__label {cursor: pointer;display: block;width: 100%;margin-bottom: 0;padding: 0.3em;box-sizing: border-box;text-align: center;}#sk-container-id-10 label.sk-toggleable__label-arrow:before {content: \"▸\";float: left;margin-right: 0.25em;color: #696969;}#sk-container-id-10 label.sk-toggleable__label-arrow:hover:before {color: black;}#sk-container-id-10 div.sk-estimator:hover label.sk-toggleable__label-arrow:before {color: black;}#sk-container-id-10 div.sk-toggleable__content {max-height: 0;max-width: 0;overflow: hidden;text-align: left;background-color: #f0f8ff;}#sk-container-id-10 div.sk-toggleable__content pre {margin: 0.2em;color: black;border-radius: 0.25em;background-color: #f0f8ff;}#sk-container-id-10 input.sk-toggleable__control:checked~div.sk-toggleable__content {max-height: 200px;max-width: 100%;overflow: auto;}#sk-container-id-10 input.sk-toggleable__control:checked~label.sk-toggleable__label-arrow:before {content: \"▾\";}#sk-container-id-10 div.sk-estimator input.sk-toggleable__control:checked~label.sk-toggleable__label {background-color: #d4ebff;}#sk-container-id-10 div.sk-label input.sk-toggleable__control:checked~label.sk-toggleable__label {background-color: #d4ebff;}#sk-container-id-10 input.sk-hidden--visually {border: 0;clip: rect(1px 1px 1px 1px);clip: rect(1px, 1px, 1px, 1px);height: 1px;margin: -1px;overflow: hidden;padding: 0;position: absolute;width: 1px;}#sk-container-id-10 div.sk-estimator {font-family: monospace;background-color: #f0f8ff;border: 1px dotted black;border-radius: 0.25em;box-sizing: border-box;margin-bottom: 0.5em;}#sk-container-id-10 div.sk-estimator:hover {background-color: #d4ebff;}#sk-container-id-10 div.sk-parallel-item::after {content: \"\";width: 100%;border-bottom: 1px solid gray;flex-grow: 1;}#sk-container-id-10 div.sk-label:hover label.sk-toggleable__label {background-color: #d4ebff;}#sk-container-id-10 div.sk-serial::before {content: \"\";position: absolute;border-left: 1px solid gray;box-sizing: border-box;top: 0;bottom: 0;left: 50%;z-index: 0;}#sk-container-id-10 div.sk-serial {display: flex;flex-direction: column;align-items: center;background-color: white;padding-right: 0.2em;padding-left: 0.2em;position: relative;}#sk-container-id-10 div.sk-item {position: relative;z-index: 1;}#sk-container-id-10 div.sk-parallel {display: flex;align-items: stretch;justify-content: center;background-color: white;position: relative;}#sk-container-id-10 div.sk-item::before, #sk-container-id-10 div.sk-parallel-item::before {content: \"\";position: absolute;border-left: 1px solid gray;box-sizing: border-box;top: 0;bottom: 0;left: 50%;z-index: -1;}#sk-container-id-10 div.sk-parallel-item {display: flex;flex-direction: column;z-index: 1;position: relative;background-color: white;}#sk-container-id-10 div.sk-parallel-item:first-child::after {align-self: flex-end;width: 50%;}#sk-container-id-10 div.sk-parallel-item:last-child::after {align-self: flex-start;width: 50%;}#sk-container-id-10 div.sk-parallel-item:only-child::after {width: 0;}#sk-container-id-10 div.sk-dashed-wrapped {border: 1px dashed gray;margin: 0 0.4em 0.5em 0.4em;box-sizing: border-box;padding-bottom: 0.4em;background-color: white;}#sk-container-id-10 div.sk-label label {font-family: monospace;font-weight: bold;display: inline-block;line-height: 1.2em;}#sk-container-id-10 div.sk-label-container {text-align: center;}#sk-container-id-10 div.sk-container {/* jupyter's `normalize.less` sets `[hidden] { display: none; }` but bootstrap.min.css set `[hidden] { display: none !important; }` so we also need the `!important` here to be able to override the default hidden behavior on the sphinx rendered scikit-learn.org. See: https://github.com/scikit-learn/scikit-learn/issues/21755 */display: inline-block !important;position: relative;}#sk-container-id-10 div.sk-text-repr-fallback {display: none;}</style><div id=\"sk-container-id-10\" class=\"sk-top-container\"><div class=\"sk-text-repr-fallback\"><pre>DecisionTreeClassifier(max_depth=2, random_state=20)</pre><b>In a Jupyter environment, please rerun this cell to show the HTML representation or trust the notebook. <br />On GitHub, the HTML representation is unable to render, please try loading this page with nbviewer.org.</b></div><div class=\"sk-container\" hidden><div class=\"sk-item\"><div class=\"sk-estimator sk-toggleable\"><input class=\"sk-toggleable__control sk-hidden--visually\" id=\"sk-estimator-id-10\" type=\"checkbox\" checked><label for=\"sk-estimator-id-10\" class=\"sk-toggleable__label sk-toggleable__label-arrow\">DecisionTreeClassifier</label><div class=\"sk-toggleable__content\"><pre>DecisionTreeClassifier(max_depth=2, random_state=20)</pre></div></div></div></div></div>"
      ],
      "text/plain": [
       "DecisionTreeClassifier(max_depth=2, random_state=20)"
      ]
     },
     "execution_count": 119,
     "metadata": {},
     "output_type": "execute_result"
    }
   ],
   "source": [
    "clf=DecisionTreeClassifier(criterion='gini',max_depth=2,random_state=20) #change max_depth val to 2 or 3\n",
    "clf.fit(x_train,y_train)"
   ]
  },
  {
   "cell_type": "code",
   "execution_count": 120,
   "id": "60584edb",
   "metadata": {},
   "outputs": [
    {
     "data": {
      "text/plain": [
       "<Figure size 5000x4000 with 0 Axes>"
      ]
     },
     "metadata": {},
     "output_type": "display_data"
    }
   ],
   "source": [
    "from sklearn import tree\n",
    "classnames=['Retain','Not-Retain']\n",
    "fig=plt.figure(figsize=(50,40))"
   ]
  },
  {
   "cell_type": "code",
   "execution_count": 121,
   "id": "406bc4ad",
   "metadata": {},
   "outputs": [
    {
     "data": {
      "image/png": "[encoded data removed]",
      "text/plain": [
       "<Figure size 640x480 with 1 Axes>"
      ]
     },
     "metadata": {},
     "output_type": "display_data"
    }
   ],
   "source": [
    "tree.plot_tree(clf,feature_names=x_train.columns.tolist(),class_names=classnames,filled=True);"
   ]
  },
  {
   "cell_type": "code",
   "execution_count": 122,
   "id": "e97558ce",
   "metadata": {},
   "outputs": [],
   "source": [
    "from sklearn import metrics\n",
    "from sklearn.metrics import confusion_matrix\n",
    "train_tree_predict=clf.predict(x_train)"
   ]
  },
  {
   "cell_type": "code",
   "execution_count": 123,
   "id": "fb676cfd",
   "metadata": {},
   "outputs": [],
   "source": [
    "confusionmatrix=confusion_matrix(y_train,train_tree_predict)"
   ]
  },
  {
   "cell_type": "code",
   "execution_count": 124,
   "id": "2baaf276",
   "metadata": {},
   "outputs": [
    {
     "data": {
      "image/png": "[encoded data removed]",
      "text/plain": [
       "<Figure size 640x480 with 2 Axes>"
      ]
     },
     "metadata": {},
     "output_type": "display_data"
    }
   ],
   "source": [
    "#classnames=['Retain','Not-Retain']\n",
    "#confusionmatrix=confusion_matrix(y_train,train_tree_predict)\n",
    "sns.heatmap(confusionmatrix,annot=True,yticklabels=classnames,xticklabels=classnames,fmt=\"g\",cmap=\"Greens\");\n",
    "#confusionmatrix=confusion_matrix(y_train,train_tree_predict)\n",
    "#sn.heatmap(confusionmatrix,annot=True,yticklabels=classnames,xticklabels=classnames,fmt=\"g\",cmap=\"Greens\")"
   ]
  },
  {
   "cell_type": "code",
   "execution_count": 125,
   "id": "a43a73e9",
   "metadata": {},
   "outputs": [
    {
     "data": {
      "text/plain": [
       "0.8840909090909091"
      ]
     },
     "execution_count": 125,
     "metadata": {},
     "output_type": "execute_result"
    }
   ],
   "source": [
    "metrics.roc_auc_score(y_train,train_tree_predict)"
   ]
  },
  {
   "cell_type": "code",
   "execution_count": 126,
   "id": "e9b8db12",
   "metadata": {},
   "outputs": [],
   "source": [
    "from sklearn import metrics\n",
    "from sklearn.metrics import confusion_matrix\n",
    "test_tree_predict=clf.predict(x_test)"
   ]
  },
  {
   "cell_type": "code",
   "execution_count": 127,
   "id": "5f0a94d9",
   "metadata": {},
   "outputs": [
    {
     "data": {
      "text/plain": [
       "[Text(0.5, 0.8333333333333334, 'Test Total  <= 24.833\\ngini = 0.499\\nsamples = 42\\nvalue = [20, 22]\\nclass = Fail'),\n",
       " Text(0.25, 0.5, 'Test III <= 16.5\\ngini = 0.287\\nsamples = 23\\nvalue = [19, 4]\\nclass = Pass'),\n",
       " Text(0.125, 0.16666666666666666, 'gini = 0.0\\nsamples = 12\\nvalue = [12, 0]\\nclass = Pass'),\n",
       " Text(0.375, 0.16666666666666666, 'gini = 0.463\\nsamples = 11\\nvalue = [7, 4]\\nclass = Pass'),\n",
       " Text(0.75, 0.5, 'Quiz 2 <= 4.5\\ngini = 0.1\\nsamples = 19\\nvalue = [1, 18]\\nclass = Fail'),\n",
       " Text(0.625, 0.16666666666666666, 'gini = 0.444\\nsamples = 3\\nvalue = [1, 2]\\nclass = Fail'),\n",
       " Text(0.875, 0.16666666666666666, 'gini = 0.0\\nsamples = 16\\nvalue = [0, 16]\\nclass = Fail')]"
      ]
     },
     "execution_count": 127,
     "metadata": {},
     "output_type": "execute_result"
    },
    {
     "data": {
      "image/png": "[encoded data removed]",
      "text/plain": [
       "<Figure size 640x480 with 1 Axes>"
      ]
     },
     "metadata": {},
     "output_type": "display_data"
    }
   ],
   "source": [
    "classnames=['Pass','Fail']\n",
    "dlf=DecisionTreeClassifier(criterion='gini',max_depth=3,random_state=20)\n",
    "dlf.fit(x_test,y_test)\n",
    "tree.plot_tree(clf,feature_names=x_test.columns.tolist(),class_names=classnames,filled=True)"
   ]
  },
  {
   "cell_type": "code",
   "execution_count": 128,
   "id": "fcaf8a23",
   "metadata": {},
   "outputs": [],
   "source": [
    "#classnames=['Pass','Fail']\n",
    "confusionmatrix=confusion_matrix(y_test,test_tree_predict)\n",
    "#sns.heatmap(confusionmatrix,annot=True,yticklabels=classnames,xticklabels=classnames,fmt='g',cmap=\"Green\");"
   ]
  },
  {
   "cell_type": "code",
   "execution_count": 129,
   "id": "a79fe754",
   "metadata": {},
   "outputs": [
    {
     "data": {
      "image/png": "[encoded data removed]",
      "text/plain": [
       "<Figure size 640x480 with 2 Axes>"
      ]
     },
     "metadata": {},
     "output_type": "display_data"
    }
   ],
   "source": [
    "sns.heatmap(confusionmatrix,annot=True,yticklabels=classnames,xticklabels=classnames,fmt=\"g\",cmap=\"Greens\");"
   ]
  },
  {
   "cell_type": "code",
   "execution_count": 131,
   "id": "60ab45b4",
   "metadata": {},
   "outputs": [
    {
     "data": {
      "text/plain": [
       "0.9285714285714286"
      ]
     },
     "execution_count": 131,
     "metadata": {},
     "output_type": "execute_result"
    }
   ],
   "source": [
    "metrics.roc_auc_score(y_test,test_tree_predict)"
   ]
  },
  {
   "cell_type": "code",
   "execution_count": 132,
   "id": "e18ac404",
   "metadata": {},
   "outputs": [
    {
     "name": "stdout",
     "output_type": "stream",
     "text": [
      "[[6 1]\n",
      " [0 4]]\n"
     ]
    }
   ],
   "source": [
    "print(confusionmatrix)"
   ]
  },
  {
   "cell_type": "code",
   "execution_count": 133,
   "id": "a1876f91",
   "metadata": {},
   "outputs": [
    {
     "data": {
      "text/html": [
       "<div>\n",
       "<style scoped>\n",
       "    .dataframe tbody tr th:only-of-type {\n",
       "        vertical-align: middle;\n",
       "    }\n",
       "\n",
       "    .dataframe tbody tr th {\n",
       "        vertical-align: top;\n",
       "    }\n",
       "\n",
       "    .dataframe thead th {\n",
       "        text-align: right;\n",
       "    }\n",
       "</style>\n",
       "<table border=\"1\" class=\"dataframe\">\n",
       "  <thead>\n",
       "    <tr style=\"text-align: right;\">\n",
       "      <th></th>\n",
       "      <th>Test I</th>\n",
       "      <th>Test II</th>\n",
       "      <th>Test III</th>\n",
       "      <th>Test Total</th>\n",
       "      <th>Test Result</th>\n",
       "      <th>Quiz 1</th>\n",
       "      <th>Quiz 2</th>\n",
       "      <th>Compensatory</th>\n",
       "      <th>Quiz</th>\n",
       "      <th>Quiz Result</th>\n",
       "      <th>Test + Quiz</th>\n",
       "      <th>Assignment</th>\n",
       "      <th>Unnamed: 15</th>\n",
       "      <th>Assignment Result</th>\n",
       "    </tr>\n",
       "  </thead>\n",
       "  <tbody>\n",
       "    <tr>\n",
       "      <th>20</th>\n",
       "      <td>18</td>\n",
       "      <td>6</td>\n",
       "      <td>14</td>\n",
       "      <td>12.666667</td>\n",
       "      <td>0</td>\n",
       "      <td>7.0</td>\n",
       "      <td>10.0</td>\n",
       "      <td>10.0</td>\n",
       "      <td>20.0</td>\n",
       "      <td>1</td>\n",
       "      <td>32.666667</td>\n",
       "      <td>13</td>\n",
       "      <td>14</td>\n",
       "      <td>1</td>\n",
       "    </tr>\n",
       "    <tr>\n",
       "      <th>42</th>\n",
       "      <td>34</td>\n",
       "      <td>39</td>\n",
       "      <td>34</td>\n",
       "      <td>35.666667</td>\n",
       "      <td>1</td>\n",
       "      <td>5.5</td>\n",
       "      <td>5.0</td>\n",
       "      <td>7.0</td>\n",
       "      <td>10.5</td>\n",
       "      <td>1</td>\n",
       "      <td>46.166667</td>\n",
       "      <td>14</td>\n",
       "      <td>14</td>\n",
       "      <td>1</td>\n",
       "    </tr>\n",
       "    <tr>\n",
       "      <th>48</th>\n",
       "      <td>16</td>\n",
       "      <td>23</td>\n",
       "      <td>12</td>\n",
       "      <td>17.000000</td>\n",
       "      <td>0</td>\n",
       "      <td>2.5</td>\n",
       "      <td>3.5</td>\n",
       "      <td>10.0</td>\n",
       "      <td>13.5</td>\n",
       "      <td>1</td>\n",
       "      <td>30.500000</td>\n",
       "      <td>14</td>\n",
       "      <td>13</td>\n",
       "      <td>1</td>\n",
       "    </tr>\n",
       "    <tr>\n",
       "      <th>13</th>\n",
       "      <td>25</td>\n",
       "      <td>42</td>\n",
       "      <td>17</td>\n",
       "      <td>28.000000</td>\n",
       "      <td>1</td>\n",
       "      <td>7.5</td>\n",
       "      <td>5.0</td>\n",
       "      <td>10.0</td>\n",
       "      <td>17.5</td>\n",
       "      <td>1</td>\n",
       "      <td>45.500000</td>\n",
       "      <td>14</td>\n",
       "      <td>14</td>\n",
       "      <td>1</td>\n",
       "    </tr>\n",
       "    <tr>\n",
       "      <th>44</th>\n",
       "      <td>19</td>\n",
       "      <td>32</td>\n",
       "      <td>5</td>\n",
       "      <td>18.666667</td>\n",
       "      <td>0</td>\n",
       "      <td>6.5</td>\n",
       "      <td>4.0</td>\n",
       "      <td>10.0</td>\n",
       "      <td>16.5</td>\n",
       "      <td>1</td>\n",
       "      <td>35.166667</td>\n",
       "      <td>13</td>\n",
       "      <td>13</td>\n",
       "      <td>1</td>\n",
       "    </tr>\n",
       "    <tr>\n",
       "      <th>6</th>\n",
       "      <td>32</td>\n",
       "      <td>45</td>\n",
       "      <td>28</td>\n",
       "      <td>35.000000</td>\n",
       "      <td>1</td>\n",
       "      <td>7.5</td>\n",
       "      <td>8.0</td>\n",
       "      <td>7.0</td>\n",
       "      <td>15.0</td>\n",
       "      <td>1</td>\n",
       "      <td>50.000000</td>\n",
       "      <td>15</td>\n",
       "      <td>15</td>\n",
       "      <td>1</td>\n",
       "    </tr>\n",
       "    <tr>\n",
       "      <th>18</th>\n",
       "      <td>17</td>\n",
       "      <td>23</td>\n",
       "      <td>15</td>\n",
       "      <td>18.333333</td>\n",
       "      <td>0</td>\n",
       "      <td>3.5</td>\n",
       "      <td>5.0</td>\n",
       "      <td>10.0</td>\n",
       "      <td>15.0</td>\n",
       "      <td>1</td>\n",
       "      <td>33.333333</td>\n",
       "      <td>13</td>\n",
       "      <td>14</td>\n",
       "      <td>1</td>\n",
       "    </tr>\n",
       "    <tr>\n",
       "      <th>51</th>\n",
       "      <td>25</td>\n",
       "      <td>27</td>\n",
       "      <td>15</td>\n",
       "      <td>22.333333</td>\n",
       "      <td>0</td>\n",
       "      <td>5.5</td>\n",
       "      <td>4.5</td>\n",
       "      <td>10.0</td>\n",
       "      <td>15.5</td>\n",
       "      <td>1</td>\n",
       "      <td>37.833333</td>\n",
       "      <td>13</td>\n",
       "      <td>14</td>\n",
       "      <td>1</td>\n",
       "    </tr>\n",
       "    <tr>\n",
       "      <th>4</th>\n",
       "      <td>25</td>\n",
       "      <td>42</td>\n",
       "      <td>27</td>\n",
       "      <td>31.333333</td>\n",
       "      <td>1</td>\n",
       "      <td>6.0</td>\n",
       "      <td>5.0</td>\n",
       "      <td>10.0</td>\n",
       "      <td>16.0</td>\n",
       "      <td>1</td>\n",
       "      <td>47.333333</td>\n",
       "      <td>13</td>\n",
       "      <td>14</td>\n",
       "      <td>1</td>\n",
       "    </tr>\n",
       "    <tr>\n",
       "      <th>33</th>\n",
       "      <td>30</td>\n",
       "      <td>38</td>\n",
       "      <td>18</td>\n",
       "      <td>28.666667</td>\n",
       "      <td>1</td>\n",
       "      <td>7.0</td>\n",
       "      <td>3.0</td>\n",
       "      <td>10.0</td>\n",
       "      <td>17.0</td>\n",
       "      <td>1</td>\n",
       "      <td>45.666667</td>\n",
       "      <td>14</td>\n",
       "      <td>13</td>\n",
       "      <td>1</td>\n",
       "    </tr>\n",
       "    <tr>\n",
       "      <th>14</th>\n",
       "      <td>13</td>\n",
       "      <td>29</td>\n",
       "      <td>23</td>\n",
       "      <td>21.666667</td>\n",
       "      <td>0</td>\n",
       "      <td>5.5</td>\n",
       "      <td>8.0</td>\n",
       "      <td>7.0</td>\n",
       "      <td>15.0</td>\n",
       "      <td>1</td>\n",
       "      <td>36.666667</td>\n",
       "      <td>13</td>\n",
       "      <td>13</td>\n",
       "      <td>1</td>\n",
       "    </tr>\n",
       "  </tbody>\n",
       "</table>\n",
       "</div>"
      ],
      "text/plain": [
       "    Test I   Test II   Test III  Test Total   Test Result   Quiz 1  Quiz 2  \\\n",
       "20       18         6        14    12.666667             0     7.0    10.0   \n",
       "42       34        39        34    35.666667             1     5.5     5.0   \n",
       "48       16        23        12    17.000000             0     2.5     3.5   \n",
       "13       25        42        17    28.000000             1     7.5     5.0   \n",
       "44       19        32         5    18.666667             0     6.5     4.0   \n",
       "6        32        45        28    35.000000             1     7.5     8.0   \n",
       "18       17        23        15    18.333333             0     3.5     5.0   \n",
       "51       25        27        15    22.333333             0     5.5     4.5   \n",
       "4        25        42        27    31.333333             1     6.0     5.0   \n",
       "33       30        38        18    28.666667             1     7.0     3.0   \n",
       "14       13        29        23    21.666667             0     5.5     8.0   \n",
       "\n",
       "    Compensatory  Quiz  Quiz Result   Test + Quiz  Assignment   Unnamed: 15  \\\n",
       "20          10.0  20.0             1    32.666667           13           14   \n",
       "42           7.0  10.5             1    46.166667           14           14   \n",
       "48          10.0  13.5             1    30.500000           14           13   \n",
       "13          10.0  17.5             1    45.500000           14           14   \n",
       "44          10.0  16.5             1    35.166667           13           13   \n",
       "6            7.0  15.0             1    50.000000           15           15   \n",
       "18          10.0  15.0             1    33.333333           13           14   \n",
       "51          10.0  15.5             1    37.833333           13           14   \n",
       "4           10.0  16.0             1    47.333333           13           14   \n",
       "33          10.0  17.0             1    45.666667           14           13   \n",
       "14           7.0  15.0             1    36.666667           13           13   \n",
       "\n",
       "    Assignment Result   \n",
       "20                   1  \n",
       "42                   1  \n",
       "48                   1  \n",
       "13                   1  \n",
       "44                   1  \n",
       "6                    1  \n",
       "18                   1  \n",
       "51                   1  \n",
       "4                    1  \n",
       "33                   1  \n",
       "14                   1  "
      ]
     },
     "execution_count": 133,
     "metadata": {},
     "output_type": "execute_result"
    }
   ],
   "source": [
    "x_test"
   ]
  },
  {
   "cell_type": "code",
   "execution_count": 134,
   "id": "b20c4d12",
   "metadata": {},
   "outputs": [
    {
     "data": {
      "text/plain": [
       "20    0\n",
       "42    1\n",
       "48    0\n",
       "13    1\n",
       "44    0\n",
       "6     0\n",
       "18    0\n",
       "51    0\n",
       "4     1\n",
       "33    1\n",
       "14    0\n",
       "Name: Result, dtype: int64"
      ]
     },
     "execution_count": 134,
     "metadata": {},
     "output_type": "execute_result"
    }
   ],
   "source": [
    "y_test"
   ]
  },
  {
   "cell_type": "code",
   "execution_count": 157,
   "id": "47574ede",
   "metadata": {},
   "outputs": [
    {
     "name": "stdout",
     "output_type": "stream",
     "text": [
      "Result : 0\n",
      "Fail\n"
     ]
    },
    {
     "name": "stderr",
     "output_type": "stream",
     "text": [
      "C:\\ProgramData\\anaconda3\\lib\\site-packages\\sklearn\\base.py:420: UserWarning: X does not have valid feature names, but DecisionTreeClassifier was fitted with feature names\n",
      "  warnings.warn(\n"
     ]
    }
   ],
   "source": [
    "result=clf.predict([[13,29,23,21.666667,0,5.5,8.0,7.0,15.0,1,36.666667,13,13,1]])\n",
    "#rs=result.reshape(-1,1)\n",
    "print(\"Result :\",result[0])\n",
    "if result==1:\n",
    "    print(\"Pass\")\n",
    "else:\n",
    "    print(\"Fail\")"
   ]
  },
  {
   "cell_type": "code",
   "execution_count": 153,
   "id": "8bc6caac",
   "metadata": {},
   "outputs": [
    {
     "name": "stderr",
     "output_type": "stream",
     "text": [
      "C:\\ProgramData\\anaconda3\\lib\\site-packages\\sklearn\\base.py:420: UserWarning: X does not have valid feature names, but DecisionTreeClassifier was fitted with feature names\n",
      "  warnings.warn(\n"
     ]
    }
   ],
   "source": [
    "y = clf.predict([[27, 33, 22, 27.3, 12.666667, 0, 7, 10, 20, 0, 32.66667, 13, 14, 1]])"
   ]
  },
  {
   "cell_type": "code",
   "execution_count": 154,
   "id": "4f654fd6",
   "metadata": {},
   "outputs": [
    {
     "name": "stdout",
     "output_type": "stream",
     "text": [
      "Result: 1\n",
      "Pass\n"
     ]
    }
   ],
   "source": [
    "print(\"Result:\",y[0])\n",
    "if y==1:\n",
    "    print(\"Pass\")\n",
    "else:\n",
    "    print(\"Fail\")"
   ]
  },
  {
   "cell_type": "code",
   "execution_count": null,
   "id": "4cadc519",
   "metadata": {},
   "outputs": [],
   "source": []
  }
 ],
 "metadata": {
  "kernelspec": {
   "display_name": "Python 3 (ipykernel)",
   "language": "python",
   "name": "python3"
  },
  "language_info": {
   "codemirror_mode": {
    "name": "ipython",
    "version": 3
   },
   "file_extension": ".py",
   "mimetype": "text/x-python",
   "name": "python",
   "nbconvert_exporter": "python",
   "pygments_lexer": "ipython3",
   "version": "3.10.9"
  }
 },
 "nbformat": 4,
 "nbformat_minor": 5
}
